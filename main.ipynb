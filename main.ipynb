{
 "cells": [
  {
   "cell_type": "markdown",
   "metadata": {},
   "source": [
    "# Project Trinity"
   ]
  },
  {
   "cell_type": "markdown",
   "metadata": {},
   "source": [
    "#### University of Pavia\n",
    "\n",
    "- Michele Ventimiglia\n",
    "- Chiara Curgu\n",
    "- Bianca Mazzaglia"
   ]
  },
  {
   "cell_type": "markdown",
   "metadata": {},
   "source": [
    "## Setup"
   ]
  },
  {
   "cell_type": "markdown",
   "metadata": {},
   "source": [
    "Install required libraries"
   ]
  },
  {
   "cell_type": "code",
   "execution_count": 1,
   "metadata": {},
   "outputs": [],
   "source": [
    "#!python -m pip install --quiet numpy scipy matplotlib ipykernel ipywidgets"
   ]
  },
  {
   "cell_type": "markdown",
   "metadata": {},
   "source": [
    "Libraries import"
   ]
  },
  {
   "cell_type": "code",
   "execution_count": 2,
   "metadata": {},
   "outputs": [],
   "source": [
    "import sys\n",
    "import scipy\n",
    "import numpy as np\n",
    "import ipykernel as ipk\n",
    "import ipywidgets as ipw\n",
    "import matplotlib as mpl\n",
    "import matplotlib.pyplot as plt\n",
    "from typing import Tuple\n",
    "from scipy.integrate import odeint\n",
    "from ipywidgets import interact, FloatSlider, Button"
   ]
  },
  {
   "cell_type": "markdown",
   "metadata": {},
   "source": [
    "Versions info"
   ]
  },
  {
   "cell_type": "code",
   "execution_count": 3,
   "metadata": {},
   "outputs": [
    {
     "name": "stdout",
     "output_type": "stream",
     "text": [
      "[i] Python v3.11.7 (tags/v3.11.7:fa7a6f2, Dec  4 2023, 19:24:49) [MSC v.1937 64 bit (AMD64)]\n",
      "[i] NumPy v1.26.2\n",
      "[i] Matplotlib v3.8.2\n",
      "[i] SciPy v1.11.4\n",
      "[i] IPyKernel v6.27.1\n",
      "[i] IPyWidgets v8.1.1\n"
     ]
    }
   ],
   "source": [
    "print(f\"[i] Python v{sys.version}\")\n",
    "print(f\"[i] NumPy v{np.__version__}\")\n",
    "print(f\"[i] Matplotlib v{mpl.__version__}\")\n",
    "print(f\"[i] SciPy v{scipy.__version__}\")\n",
    "print(f\"[i] IPyKernel v{ipk.__version__}\")\n",
    "print(f\"[i] IPyWidgets v{ipw.__version__}\")"
   ]
  },
  {
   "cell_type": "markdown",
   "metadata": {},
   "source": [
    "## Model"
   ]
  },
  {
   "cell_type": "markdown",
   "metadata": {},
   "source": [
    "Morris-Lecar model equations"
   ]
  },
  {
   "cell_type": "code",
   "execution_count": 4,
   "metadata": {},
   "outputs": [],
   "source": [
    "def morris_lecar(\n",
    "        V_w: Tuple[float, float],\n",
    "        t: float,\n",
    "        I_ext: float,\n",
    "        C: float,\n",
    "        g_Ca: float,\n",
    "        g_K: float,\n",
    "        g_L: float,\n",
    "        V_Ca: float,\n",
    "        V_K: float,\n",
    "        V_L: float,\n",
    "        phi: float\n",
    "    ) -> Tuple[float, float]:\n",
    "    \"\"\"\n",
    "    Morris-Lecar model differential equations.\n",
    "    \n",
    "    Args:\n",
    "        V_w (Tuple[float, float]): Membrane potential (V) and recovery variable (w).\n",
    "        t (float): Time variable.\n",
    "        I_ext (float): External current.\n",
    "        C, g_Ca, g_K, g_L (float): Capacitance and maximum conductances.\n",
    "        V_Ca, V_K, V_L (float): Reversal potentials.\n",
    "        phi (float): Temperature factor.\n",
    "    \n",
    "    Returns:\n",
    "        Tuple[float, float]: Derivatives dV/dt and dw/dt.\n",
    "    \"\"\"\n",
    "    \n",
    "    V, w = V_w\n",
    "    m_inf = 0.5 * (1 + np.tanh((V + 1) / 15))\n",
    "    w_inf = 0.5 * (1 + np.tanh(V / 30))\n",
    "    tau_w = 1 / (phi * np.cosh(V / 60))\n",
    "\n",
    "    dV_dt = (- g_Ca * m_inf * (V - V_Ca) - g_K * w * (V - V_K) - g_L * (V - V_L) + I_ext) / C\n",
    "    dw_dt = (w_inf - w) / tau_w\n",
    "\n",
    "    return [dV_dt, dw_dt]"
   ]
  },
  {
   "cell_type": "markdown",
   "metadata": {},
   "source": [
    "### Parameters"
   ]
  },
  {
   "cell_type": "code",
   "execution_count": 5,
   "metadata": {},
   "outputs": [],
   "source": [
    "def default_parameters() -> dict:\n",
    "    \"\"\"\n",
    "    Default parameters and initial conditions for the Morris-Lecar model.\n",
    "    \n",
    "    Returns:\n",
    "        dict: A dictionary of default parameters.\n",
    "    \"\"\"\n",
    "    \n",
    "    params = {\n",
    "        \"C\": 1.0,   # Membrane capacitance\n",
    "        \"g_Ca\": 1.0,  # Maximum conductances (mS/cm^2)\n",
    "        \"g_K\": 2.0,\n",
    "        \"g_L\": 0.5,\n",
    "        \"V_Ca\": 1.0,  # Reversal potentials (mV)\n",
    "        \"V_K\": -0.7,\n",
    "        \"V_L\": -0.5,\n",
    "        \"phi\": 0.04,  # Temperature factor\n",
    "        \"V0\": -0.5,  # Initial membrane potential\n",
    "        \"w0\": 0.1    # Initial recovery variable\n",
    "    }\n",
    "    \n",
    "    return params"
   ]
  },
  {
   "cell_type": "markdown",
   "metadata": {},
   "source": [
    "Time parameter"
   ]
  },
  {
   "cell_type": "code",
   "execution_count": 6,
   "metadata": {},
   "outputs": [],
   "source": [
    "t = np.linspace(0, 100, 10000)  # Time array"
   ]
  },
  {
   "cell_type": "markdown",
   "metadata": {},
   "source": [
    "External current"
   ]
  },
  {
   "cell_type": "code",
   "execution_count": 7,
   "metadata": {},
   "outputs": [],
   "source": [
    "I_ext = 0.1  # External current"
   ]
  },
  {
   "cell_type": "markdown",
   "metadata": {},
   "source": [
    "## Processing"
   ]
  },
  {
   "cell_type": "markdown",
   "metadata": {},
   "source": [
    "Solve ODE"
   ]
  },
  {
   "cell_type": "code",
   "execution_count": 8,
   "metadata": {},
   "outputs": [],
   "source": [
    "def solve_model(\n",
    "        I_ext: float,\n",
    "        g_Ca: float,\n",
    "        g_K: float\n",
    "    ) -> Tuple[np.ndarray, np.ndarray]:\n",
    "    \"\"\"\n",
    "    Solves the Morris-Lecar model ODEs with given parameters.\n",
    "    \n",
    "    Args:\n",
    "        I_ext (float): External current.\n",
    "        g_Ca (float): Calcium conductance.\n",
    "        g_K (float): Potassium conductance.\n",
    "    \n",
    "    Returns:\n",
    "        Tuple[np.ndarray, np.ndarray]: Arrays of membrane potential (V) and recovery variable (w).\n",
    "    \"\"\"\n",
    "    \n",
    "    params = default_parameters()\n",
    "    initial_conditions = [params['V0'], params['w0']]\n",
    "    \n",
    "    solution = odeint(\n",
    "        func = morris_lecar,\n",
    "        y0 = initial_conditions,\n",
    "        t = t, \n",
    "        args = (\n",
    "            I_ext,\n",
    "            params['C'],\n",
    "            g_Ca,\n",
    "            g_K,\n",
    "            params['g_L'], \n",
    "            params['V_Ca'],\n",
    "            params['V_K'],\n",
    "            params['V_L'],\n",
    "            params['phi']\n",
    "        )\n",
    "    )\n",
    "    return solution[:, 0], solution[:, 1]"
   ]
  },
  {
   "cell_type": "markdown",
   "metadata": {},
   "source": [
    "Data Analysis"
   ]
  },
  {
   "cell_type": "code",
   "execution_count": 9,
   "metadata": {},
   "outputs": [],
   "source": [
    "def analyze_data(\n",
    "        V: np.ndarray,\n",
    "        w: np.ndarray,\n",
    "        t: np.ndarray\n",
    "    ) -> dict:\n",
    "    \"\"\"\n",
    "    Analyzes the data from the Morris-Lecar model simulation.\n",
    "\n",
    "    Args:\n",
    "        V (np.ndarray): Array of membrane potentials.\n",
    "        w (np.ndarray): Array of recovery variable values.\n",
    "        t (np.ndarray): Time array.\n",
    "\n",
    "    Returns:\n",
    "        dict: A dictionary containing analysis results.\n",
    "    \"\"\"\n",
    "    \n",
    "    analysis_results = {\n",
    "        'max_potential': np.max(V),\n",
    "        'min_potential': np.min(V),\n",
    "        'max_recovery': np.max(w),\n",
    "        'min_recovery': np.min(w),\n",
    "        'threshold_potential': None  # Placeholder, define calculation method\n",
    "    }\n",
    "\n",
    "    # Example analysis: Identifying threshold potential (customize as needed)\n",
    "    threshold_index = np.argmax(V > -0.2)  # Example condition\n",
    "    analysis_results['threshold_potential'] = V[threshold_index]\n",
    "\n",
    "    return analysis_results"
   ]
  },
  {
   "cell_type": "markdown",
   "metadata": {},
   "source": [
    "## Results"
   ]
  },
  {
   "cell_type": "code",
   "execution_count": 10,
   "metadata": {},
   "outputs": [],
   "source": [
    "global current_plot_state"
   ]
  },
  {
   "cell_type": "markdown",
   "metadata": {},
   "source": [
    "Function to save the plot"
   ]
  },
  {
   "cell_type": "code",
   "execution_count": 11,
   "metadata": {},
   "outputs": [],
   "source": [
    "def save_plot(\n",
    "        filename: str = 'plot'\n",
    "    ) -> None:\n",
    "    \n",
    "    global current_plot_state\n",
    "    \n",
    "    if current_plot_state is None:\n",
    "        print(\"No plot to save.\")\n",
    "        return\n",
    "    \n",
    "    I_ext, g_Ca, g_K, V, w, t = current_plot_state\n",
    "    \n",
    "    filename = f\"{filename}_I_ext_{I_ext}_g_Ca_{g_Ca}_g_K_{g_K}.png\"\n",
    "    \n",
    "    plt.figure(figsize=(18, 6))\n",
    "\n",
    "    plt.subplot(1, 3, 1)\n",
    "    plt.plot(t, V)\n",
    "    plt.title('Membrane Potential Over Time')\n",
    "    plt.xlabel('Time')\n",
    "    plt.ylabel('Membrane Potential (V)')\n",
    "    plt.grid()\n",
    "\n",
    "    plt.subplot(1, 3, 2)\n",
    "    plt.plot(V, w)\n",
    "    plt.title('Phase Plane')\n",
    "    plt.xlabel('Membrane Potential (V)')\n",
    "    plt.ylabel('Recovery Variable (w)')\n",
    "    plt.grid()\n",
    "\n",
    "    plt.subplot(1, 3, 3)\n",
    "    plt.plot(t, w)\n",
    "    plt.title('Recovery Variable Over Time')\n",
    "    plt.xlabel('Time')\n",
    "    plt.ylabel('Recovery Variable (w)')\n",
    "    plt.grid()\n",
    "\n",
    "    plt.savefig(f\"docs/img/{filename}\")\n",
    "    plt.close()\n",
    "    print(f\"Plot saved as {filename}\")"
   ]
  },
  {
   "cell_type": "markdown",
   "metadata": {},
   "source": [
    "Plotting"
   ]
  },
  {
   "cell_type": "code",
   "execution_count": 12,
   "metadata": {},
   "outputs": [],
   "source": [
    "def interactive_plot(\n",
    "        I_ext: float,\n",
    "        g_Ca: float,\n",
    "        g_K: float\n",
    "    ) -> None:\n",
    "    \n",
    "    global current_plot_state\n",
    "    \n",
    "    V, w = solve_model(I_ext, g_Ca, g_K)\n",
    "    analysis_results = analyze_data(V, w, t)\n",
    "    \n",
    "    current_plot_state = (I_ext, g_Ca, g_K, V, w, t)\n",
    "    \n",
    "    # Plotting\n",
    "    plt.figure(figsize=(18, 6))\n",
    "\n",
    "    # Plot V(t)\n",
    "    plt.subplot(1, 3, 1)\n",
    "    plt.plot(t, V)\n",
    "    plt.title('Membrane Potential Over Time')\n",
    "    plt.xlabel('Time')\n",
    "    plt.ylabel('Membrane Potential (V)')\n",
    "    plt.grid()\n",
    "\n",
    "    # Plot phase plane trajectory\n",
    "    plt.subplot(1, 3, 2)\n",
    "    plt.plot(V, w)\n",
    "    plt.title('Phase Plane')\n",
    "    plt.xlabel('Membrane Potential (V)')\n",
    "    plt.ylabel('Recovery Variable (w)')\n",
    "    plt.grid()\n",
    "\n",
    "    # Plot w(t)\n",
    "    plt.subplot(1, 3, 3)\n",
    "    plt.plot(t, w)\n",
    "    plt.title('Recovery Variable Over Time')\n",
    "    plt.xlabel('Time')\n",
    "    plt.ylabel('Recovery Variable (w)')\n",
    "    plt.grid()\n",
    "    \n",
    "    plt.show()\n",
    "\n",
    "    # Print analysis results\n",
    "    print(f\"Max Membrane Potential: {analysis_results['max_potential']:.2f}\")\n",
    "    print(f\"Min Membrane Potential: {analysis_results['min_potential']:.2f}\")\n",
    "    print(f\"Max Recovery Variable: {analysis_results['max_recovery']:.2f}\")\n",
    "    print(f\"Min Recovery Variable: {analysis_results['min_recovery']:.2f}\")\n",
    "    print(f\"Threshold Potential (Estimate): {analysis_results['threshold_potential']:.2f}\")\n"
   ]
  },
  {
   "cell_type": "markdown",
   "metadata": {},
   "source": [
    "Interact"
   ]
  },
  {
   "cell_type": "code",
   "execution_count": 14,
   "metadata": {},
   "outputs": [
    {
     "data": {
      "application/vnd.jupyter.widget-view+json": {
       "model_id": "d0fd7336e72c4508bca61e3e9cfe2450",
       "version_major": 2,
       "version_minor": 0
      },
      "text/plain": [
       "interactive(children=(FloatSlider(value=0.1, continuous_update=False, description='Ext. Current:', max=1.0, mi…"
      ]
     },
     "metadata": {},
     "output_type": "display_data"
    },
    {
     "data": {
      "application/vnd.jupyter.widget-view+json": {
       "model_id": "b9eb4276e29941d599e66f4a1ad6a643",
       "version_major": 2,
       "version_minor": 0
      },
      "text/plain": [
       "Button(description='Save Plot', style=ButtonStyle())"
      ]
     },
     "metadata": {},
     "output_type": "display_data"
    },
    {
     "name": "stdout",
     "output_type": "stream",
     "text": [
      "Plot saved as plot_I_ext_0.1_g_Ca_1.0_g_K_2.0.png\n"
     ]
    }
   ],
   "source": [
    "interact(\n",
    "    interactive_plot,\n",
    "    I_ext = FloatSlider(\n",
    "        value = 0.1,\n",
    "        min = -1,\n",
    "        max = 1,\n",
    "        step = 0.1,\n",
    "        description = 'Ext. Current:',\n",
    "        continuous_update = False\n",
    "    ),\n",
    "    \n",
    "    g_Ca = FloatSlider(\n",
    "        value = 1.0,\n",
    "        min = 0,\n",
    "        max = 5,\n",
    "        step = 0.1,\n",
    "        description = 'g_Ca:',\n",
    "        continuous_update = False\n",
    "    ),\n",
    "    \n",
    "    g_K = FloatSlider(\n",
    "        value = 2.0,\n",
    "        min = 0,\n",
    "        max = 5,\n",
    "        step = 0.1,\n",
    "        description = 'g_K:',\n",
    "        continuous_update = False\n",
    "    )\n",
    ")\n",
    "\n",
    "save_button = Button(description=\"Save Plot\")\n",
    "save_button.on_click(lambda b: save_plot())\n",
    "display(save_button)"
   ]
  }
 ],
 "metadata": {
  "kernelspec": {
   "display_name": "BrainModelling",
   "language": "python",
   "name": "python3"
  },
  "language_info": {
   "codemirror_mode": {
    "name": "ipython",
    "version": 3
   },
   "file_extension": ".py",
   "mimetype": "text/x-python",
   "name": "python",
   "nbconvert_exporter": "python",
   "pygments_lexer": "ipython3",
   "version": "3.11.7"
  }
 },
 "nbformat": 4,
 "nbformat_minor": 2
}
