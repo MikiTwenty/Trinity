{
 "cells": [
  {
   "cell_type": "markdown",
   "metadata": {},
   "source": [
    "# Project Trinity"
   ]
  },
  {
   "cell_type": "markdown",
   "metadata": {},
   "source": [
    "#### University of Pavia\n",
    "\n",
    "- Michele Ventimiglia\n",
    "- Chiara Curgu\n",
    "- Bianca Mazzaglia"
   ]
  },
  {
   "cell_type": "markdown",
   "metadata": {},
   "source": [
    "## Setup"
   ]
  },
  {
   "cell_type": "markdown",
   "metadata": {},
   "source": [
    "Install required libraries"
   ]
  },
  {
   "cell_type": "code",
   "execution_count": 1,
   "metadata": {},
   "outputs": [],
   "source": [
    "#!python -m pip install --upgrade --quiet numpy scipy matplotlib ipykernel ipywidgets"
   ]
  },
  {
   "cell_type": "markdown",
   "metadata": {},
   "source": [
    "Libraries import"
   ]
  },
  {
   "cell_type": "code",
   "execution_count": 2,
   "metadata": {},
   "outputs": [],
   "source": [
    "import sys\n",
    "import scipy\n",
    "import numpy as np\n",
    "import matplotlib.pyplot as plt\n",
    "from typing import Tuple, Dict\n",
    "from scipy.integrate import odeint\n",
    "from ipywidgets import interact, FloatSlider, Button"
   ]
  },
  {
   "cell_type": "markdown",
   "metadata": {},
   "source": [
    "Versions info"
   ]
  },
  {
   "cell_type": "code",
   "execution_count": 3,
   "metadata": {},
   "outputs": [
    {
     "name": "stdout",
     "output_type": "stream",
     "text": [
      "[i] Python v3.11.8 (tags/v3.11.8:db85d51, Feb  6 2024, 22:03:32) [MSC v.1937 64 bit (AMD64)]\n",
      "[i] NumPy v1.26.4\n",
      "[i] SciPy v1.12.0\n"
     ]
    }
   ],
   "source": [
    "print(f\"[i] Python v{sys.version}\")\n",
    "print(f\"[i] NumPy v{np.__version__}\")\n",
    "print(f\"[i] SciPy v{scipy.__version__}\")"
   ]
  },
  {
   "cell_type": "markdown",
   "metadata": {},
   "source": [
    "## Model"
   ]
  },
  {
   "cell_type": "markdown",
   "metadata": {},
   "source": [
    "Morris-Lecar model equations"
   ]
  },
  {
   "cell_type": "code",
   "execution_count": 4,
   "metadata": {},
   "outputs": [],
   "source": [
    "def morris_lecar(\n",
    "        V_w: Tuple[float, float],\n",
    "        t: float,\n",
    "        params: Dict[str, float]\n",
    "    ) -> Tuple[float, float]:\n",
    "    \"\"\"\n",
    "    Implements the Morris-Lecar model to calculate the time evolution of membrane potential (V) \n",
    "    and gating variable (w) in a neuron based on differential equations.\n",
    "    \n",
    "    The Morris-Lecar model is a simplified model of neuronal activity that describes how the membrane potential evolves over time in response to external currents and the neuron's own ion channels.\n",
    "    \n",
    "    Args:\n",
    "        V_w (Tuple[float, float]): A tuple containing the current values of the membrane potential (V) and the gating variable (w).\n",
    "        t (float): The current time. Not used in the calculation directly but required for compatibility with ODE solvers.\n",
    "        params (Dict[str, float]): A dictionary containing parameters of the model. Expected keys are:\n",
    "            - 'I_ext': External current applied to the neuron.\n",
    "            - 'V1', 'V2', 'V3', 'V4': Parameters for the voltage-dependent activation/inactivation variables.\n",
    "            - 'g_Ca', 'g_K', 'g_L': Conductances for Ca2+, K+, and leak channels, respectively.\n",
    "            - 'V_Ca', 'V_K', 'V_L': Reversal potentials for Ca2+, K+, and leak channels, respectively.\n",
    "            - 'C': Membrane capacitance.\n",
    "            - 'phi': Rate constant for the gating variable w.\n",
    "    \n",
    "    Returns:\n",
    "        Tuple[float, float]: The derivatives of the membrane potential (dV/dt) and the gating variable (dw/dt) with respect to time.\n",
    "    \"\"\"\n",
    "    \n",
    "    V, w = V_w # Unpack the membrane potential and gating variable\n",
    "    I_ext = params['I_ext']\n",
    "    \n",
    "    # Calculate the steady-state activation and time constant for the gating variable\n",
    "    m_inf = 0.5 * (1.0 + np.tanh((V - params['V1']) / params['V2']))\n",
    "    w_inf = 0.5 * (1.0 + np.tanh((V - params['V3']) / params['V4']))\n",
    "    tau_w = 1 / (params['phi'] * np.cosh((V - params['V3']) / (2 * params['V4'])))\n",
    "    \n",
    "    # Calculate the derivatives of V and w using the Morris-Lecar equations\n",
    "    dV_dt = (I_ext - params['g_Ca'] * m_inf * (V - params['V_Ca']) - params['g_K'] * w * (V - params['V_K']) - params['g_L'] * (V - params['V_L'])) / params['C']\n",
    "    dw_dt = params['phi'] * (w_inf - w) / tau_w\n",
    "    \n",
    "    return [dV_dt, dw_dt]"
   ]
  },
  {
   "cell_type": "markdown",
   "metadata": {},
   "source": [
    "### Parameters"
   ]
  },
  {
   "cell_type": "code",
   "execution_count": 5,
   "metadata": {},
   "outputs": [],
   "source": [
    "def default_parameters() -> dict:\n",
    "    \"\"\"\n",
    "    Default parameters and initial conditions for the Morris-Lecar model.\n",
    "    \n",
    "    Returns:\n",
    "        dict: A dictionary of default parameters.\n",
    "    \"\"\"\n",
    "    \n",
    "    params = {\n",
    "        \"C\": 20,  # Membrane capacitance, uF/cm^2\n",
    "        \"V_Ca\": 120,  # Reversal potential for calcium, mV\n",
    "        \"V_K\": -84,  # Reversal potential for potassium, mV\n",
    "        \"V_L\": -60,  # Reversal potential for leak channels, mV\n",
    "        \"g_Ca\": 4.4,  # Maximum conductance for calcium, mS/cm^2\n",
    "        \"g_K\": 8,  # Maximum conductance for potassium, mS/cm^2\n",
    "        \"g_L\": 2,  # Maximum conductance for leak, mS/cm^2\n",
    "        \"phi\": 0.04,  # Temperature coefficient\n",
    "        \"V1\": -1.2,  # Parameter for activation/inactivation\n",
    "        \"V2\": 18,  # Parameter for activation/inactivation\n",
    "        \"V3\": 2,  # Parameter for activation/inactivation\n",
    "        \"V4\": 30,  # Parameter for activation/inactivation\n",
    "        \"I_ext\": 0.1,  # External current, uA/cm^2\n",
    "        \"V0\": -0.5,  # Initial membrane potential, mV\n",
    "        \"w0\": 0.1  # Initial fraction of open potassium channels\n",
    "    }\n",
    "    \n",
    "    return params"
   ]
  },
  {
   "cell_type": "markdown",
   "metadata": {},
   "source": [
    "## Processing"
   ]
  },
  {
   "cell_type": "markdown",
   "metadata": {},
   "source": [
    "Solve ODE"
   ]
  },
  {
   "cell_type": "code",
   "execution_count": 6,
   "metadata": {},
   "outputs": [],
   "source": [
    "def solve_model(\n",
    "        V1: float,\n",
    "        V2: float,\n",
    "        V3: float,\n",
    "        V4: float\n",
    "    ) -> Tuple[np.ndarray, np.ndarray, np.ndarray]:\n",
    "    \"\"\"\n",
    "    Solves the Morris-Lecar model ordinary differential equations (ODEs) for given parameter values.\n",
    "    \n",
    "    This function integrates the Morris-Lecar model over a specified time period using the given parameters for the model. It customizes the model by allowing the user to specify values for the parameters V1, V2, V3, and V4, which affect the dynamics of the membrane potential and recovery variable.\n",
    "    \n",
    "    Args:\n",
    "        V1 (float): Parameter for voltage-dependent activation/inactivation.\n",
    "        V2 (float): Parameter for voltage-dependent activation/inactivation.\n",
    "        V3 (float): Parameter for voltage-dependent activation/inactivation.\n",
    "        V4 (float): Parameter for voltage-dependent activation/inactivation.\n",
    "    \n",
    "    Returns:\n",
    "        Tuple[np.ndarray, np.ndarray, np.ndarray]: A tuple containing three np.ndarrays. The first array is the time vector. The second and third arrays are the time series of the membrane potential (V) and recovery variable (w), respectively.\n",
    "    \"\"\"\n",
    "    \n",
    "    # Define the time vector over which to solve the ODEs\n",
    "    t = np.linspace(0, 100, 10000)\n",
    "    \n",
    "    # Retrieve default parameters and update them with the given values\n",
    "    params = default_parameters()\n",
    "    params.update({'V1': V1, 'V2': V2, 'V3': V3, 'V4': V4})\n",
    "    \n",
    "    # Define the initial conditions for the integration\n",
    "    initial_conditions = [params['V0'], params['w0']]\n",
    "    \n",
    "    # Solve the ODEs using scipy's odeint function\n",
    "    sol = odeint(morris_lecar, initial_conditions, t, args=(params,))\n",
    "    \n",
    "    # Return the time vector, membrane potential, and recovery variable\n",
    "    return t, sol[:, 0], sol[:, 1]"
   ]
  },
  {
   "cell_type": "markdown",
   "metadata": {},
   "source": [
    "Data Analysis"
   ]
  },
  {
   "cell_type": "code",
   "execution_count": 7,
   "metadata": {},
   "outputs": [],
   "source": [
    "def analyze_data(\n",
    "        V: np.ndarray,\n",
    "        w: np.ndarray,\n",
    "        t: np.ndarray\n",
    "    ) -> dict:\n",
    "    \"\"\"\n",
    "    Analyzes the data from the Morris-Lecar model simulation by computing key statistics \n",
    "    of the membrane potential and recovery variable over time.\n",
    "    \n",
    "    This function calculates the maximum and minimum of the membrane potential and recovery variable.\n",
    "    It also identifies a threshold potential value based on a specified condition, illustrating how data analysis \n",
    "    might extract meaningful physiological parameters from the model's results.\n",
    "    \n",
    "    Args:\n",
    "        V (np.ndarray): Array of membrane potentials over time.\n",
    "        w (np.ndarray): Array of recovery variable values over time.\n",
    "        t (np.ndarray): Array representing the simulation time points.\n",
    "    \n",
    "    Returns:\n",
    "        Dict[str, float]: A dictionary containing analysis results, including the maximum and minimum values \n",
    "        for the membrane potential and recovery variable, and the threshold potential based on a predefined condition.\n",
    "    \"\"\"\n",
    "    \n",
    "    # Initialize analysis results dictionary with max and min values for potential and recovery\n",
    "    analysis_results = {\n",
    "        'max_potential': np.max(V),\n",
    "        'min_potential': np.min(V),\n",
    "        'max_recovery': np.max(w),\n",
    "        'min_recovery': np.min(w),\n",
    "        'threshold_potential': None  # Placeholder, define calculation method\n",
    "    }\n",
    "\n",
    "    # Identifying threshold potential (customize as needed)\n",
    "    threshold_index = np.argmax(V > -0.2)   # Find the index where V first exceeds -0.2\n",
    "    analysis_results['threshold_potential'] = V[threshold_index] if V[threshold_index] > -0.2 else None\n",
    "\n",
    "    return analysis_results"
   ]
  },
  {
   "cell_type": "markdown",
   "metadata": {},
   "source": [
    "## Results"
   ]
  },
  {
   "cell_type": "code",
   "execution_count": 8,
   "metadata": {},
   "outputs": [],
   "source": [
    "global current_plot_state"
   ]
  },
  {
   "cell_type": "markdown",
   "metadata": {},
   "source": [
    "Function to save the plot"
   ]
  },
  {
   "cell_type": "code",
   "execution_count": 9,
   "metadata": {},
   "outputs": [],
   "source": [
    "def save_plot(filename: str = 'plot') -> None:\n",
    "    \n",
    "    global current_plot_state\n",
    "    \n",
    "    if current_plot_state is None:\n",
    "        print(\"No plot to save.\")\n",
    "        return\n",
    "    \n",
    "    V1, V2, V3, V4, V, w, t = current_plot_state\n",
    "    \n",
    "    filename = f\"{filename}_V1_{V1}_V2_{V2}_V3_{V3}_V4_{V4}.png\"\n",
    "    \n",
    "    plt.figure(figsize=(18, 6))\n",
    "\n",
    "    plt.subplot(1, 3, 1)\n",
    "    plt.plot(t, V)\n",
    "    plt.title('Membrane Potential Over Time')\n",
    "    plt.xlabel('Time (ms)')\n",
    "    plt.ylabel('Membrane Potential (mV)')\n",
    "    plt.grid()\n",
    "\n",
    "    plt.subplot(1, 3, 2)\n",
    "    plt.plot(V, w)\n",
    "    plt.title('Phase Plane')\n",
    "    plt.xlabel('Membrane Potential (mV)')\n",
    "    plt.ylabel('Recovery Variable (w)')\n",
    "    plt.grid()\n",
    "\n",
    "    plt.subplot(1, 3, 3)\n",
    "    plt.plot(t, w)\n",
    "    plt.title('Recovery Variable Over Time')\n",
    "    plt.xlabel('Time (ms)')\n",
    "    plt.ylabel('Recovery Variable (w)')\n",
    "    plt.grid()\n",
    "\n",
    "    plt.savefig(f\"docs/img/{filename}\")\n",
    "    plt.close()\n",
    "    \n",
    "    print(f\"Plot saved as {filename}\")"
   ]
  },
  {
   "cell_type": "markdown",
   "metadata": {},
   "source": [
    "Plotting"
   ]
  },
  {
   "cell_type": "code",
   "execution_count": 10,
   "metadata": {},
   "outputs": [],
   "source": [
    "def interactive_plot(\n",
    "        V1: float,\n",
    "        V2: float,\n",
    "        V3: float,\n",
    "        V4: float\n",
    "    ) -> None:\n",
    "    \n",
    "    global current_plot_state\n",
    "    \n",
    "    t, V, w = solve_model(V1, V2, V3, V4)\n",
    "    analysis_results = analyze_data(V, w, t)\n",
    "    \n",
    "    current_plot_state = V1, V2, V3, V4, V, w, t\n",
    "    \n",
    "    # Plotting\n",
    "    plt.figure(figsize=(18, 6))\n",
    "\n",
    "    # Plot V(t)\n",
    "    plt.subplot(1, 3, 1)\n",
    "    plt.plot(t, V)\n",
    "    plt.title('Membrane Potential Over Time')\n",
    "    plt.xlabel('Time (ms)')\n",
    "    plt.ylabel('Membrane Potential (mV)')\n",
    "    plt.grid()\n",
    "\n",
    "    # Plot phase plane trajectory\n",
    "    plt.subplot(1, 3, 2)\n",
    "    plt.plot(V, w)\n",
    "    plt.title('Phase Plane')\n",
    "    plt.xlabel('Membrane Potential (mV)')\n",
    "    plt.ylabel('Recovery Variable (w)')\n",
    "    plt.grid()\n",
    "\n",
    "    # Plot w(t)\n",
    "    plt.subplot(1, 3, 3)\n",
    "    plt.plot(t, w)\n",
    "    plt.title('Recovery Variable Over Time')\n",
    "    plt.xlabel('Time (ms)')\n",
    "    plt.ylabel('Recovery Variable (w)')\n",
    "    plt.grid()\n",
    "    \n",
    "    plt.show()\n",
    "\n",
    "    # Print analysis results\n",
    "    print(f\"Max Membrane Potential: {analysis_results['max_potential']:.2f}\")\n",
    "    print(f\"Min Membrane Potential: {analysis_results['min_potential']:.2f}\")\n",
    "    print(f\"Max Recovery Variable: {analysis_results['max_recovery']:.2f}\")\n",
    "    print(f\"Min Recovery Variable: {analysis_results['min_recovery']:.2f}\")\n",
    "    print(f\"Threshold Potential (Estimate): {analysis_results['threshold_potential']:.2f}\")\n"
   ]
  },
  {
   "cell_type": "code",
   "execution_count": 11,
   "metadata": {},
   "outputs": [],
   "source": [
    "params = default_parameters()"
   ]
  },
  {
   "cell_type": "markdown",
   "metadata": {},
   "source": [
    "Interact"
   ]
  },
  {
   "cell_type": "code",
   "execution_count": 13,
   "metadata": {},
   "outputs": [
    {
     "data": {
      "application/vnd.jupyter.widget-view+json": {
       "model_id": "9abb46e206324cf28f44355dbac7768b",
       "version_major": 2,
       "version_minor": 0
      },
      "text/plain": [
       "interactive(children=(FloatSlider(value=-1.2, description='V1', max=50.0, min=-50.0, step=1.0), FloatSlider(va…"
      ]
     },
     "metadata": {},
     "output_type": "display_data"
    },
    {
     "data": {
      "application/vnd.jupyter.widget-view+json": {
       "model_id": "55769dda29be421ca4fffbbeaffcfc6a",
       "version_major": 2,
       "version_minor": 0
      },
      "text/plain": [
       "Button(description='Save Plot', style=ButtonStyle())"
      ]
     },
     "metadata": {},
     "output_type": "display_data"
    },
    {
     "name": "stdout",
     "output_type": "stream",
     "text": [
      "Plot saved as plot_V1_-1.0_V2_18.0_V3_2.0_V4_30.0.png\n"
     ]
    }
   ],
   "source": [
    "interact(\n",
    "    interactive_plot,\n",
    "    V1 = FloatSlider(\n",
    "        value = params['V1'],\n",
    "        min = -50,\n",
    "        max = 50,\n",
    "        step = 1),\n",
    "    V2 = FloatSlider(\n",
    "        value = params['V2'],\n",
    "        min = -50,\n",
    "        max = 50,\n",
    "        step = 1),\n",
    "    V3 = FloatSlider(\n",
    "        value = params['V3'],\n",
    "        min = -50,\n",
    "        max = 50,\n",
    "        step = 1),\n",
    "    V4 = FloatSlider(\n",
    "        value = params['V4'],\n",
    "        min = -50,\n",
    "        max = 50,\n",
    "        step = 1))\n",
    "\n",
    "save_button = Button(description=\"Save Plot\")\n",
    "save_button.on_click(lambda b: save_plot())\n",
    "display(save_button)"
   ]
  }
 ],
 "metadata": {
  "kernelspec": {
   "display_name": "BrainModelling",
   "language": "python",
   "name": "python3"
  },
  "language_info": {
   "codemirror_mode": {
    "name": "ipython",
    "version": 3
   },
   "file_extension": ".py",
   "mimetype": "text/x-python",
   "name": "python",
   "nbconvert_exporter": "python",
   "pygments_lexer": "ipython3",
   "version": "3.11.8"
  }
 },
 "nbformat": 4,
 "nbformat_minor": 2
}
